{
 "cells": [
  {
   "cell_type": "markdown",
   "id": "fe12c203-e6a6-452c-a655-afb8a03a4ff5",
   "metadata": {},
   "source": [
    "# End of week 1 exercise\n",
    "\n",
    "To demonstrate your familiarity with OpenAI API, and also Ollama, build a tool that takes a technical question,  \n",
    "and responds with an explanation. This is a tool that you will be able to use yourself during the course!"
   ]
  },
  {
   "cell_type": "code",
   "execution_count": 5,
   "id": "c1070317-3ed9-4659-abe3-828943230e03",
   "metadata": {},
   "outputs": [],
   "source": [
    "import os\n",
    "import requests\n",
    "import json\n",
    "from typing import List\n",
    "from dotenv import load_dotenv\n",
    "from bs4 import BeautifulSoup\n",
    "from IPython.display import Markdown, display, update_display\n",
    "from openai import OpenAI\n",
    "\n",
    "#!pip install ollama -qq\n",
    "import ollama\n",
    "\n"
   ]
  },
  {
   "cell_type": "code",
   "execution_count": 14,
   "id": "4a456906-915a-4bfd-bb9d-57e505c5093f",
   "metadata": {},
   "outputs": [],
   "source": [
    "# constants\n",
    "\n",
    "MODEL_GPT = 'gpt-4o-mini'\n",
    "MODEL_LLAMA = \"llama3.2:1b\""
   ]
  },
  {
   "cell_type": "code",
   "execution_count": 7,
   "id": "a8d7923c-5f28-4c30-8556-342d7c8497c1",
   "metadata": {},
   "outputs": [
    {
     "name": "stdout",
     "output_type": "stream",
     "text": [
      "API key looks good so far\n"
     ]
    }
   ],
   "source": [
    "# set up environment\n",
    "load_dotenv(override=True)\n",
    "api_key = os.getenv('OPENAI_API_KEY')\n",
    "\n",
    "if api_key and api_key.startswith('sk-proj-') and len(api_key)>10:\n",
    "    print(\"API key looks good so far\")\n",
    "else:\n",
    "    print(\"There might be a problem with your API key? Please visit the troubleshooting notebook!\")\n",
    "    \n",
    "\n",
    "openai = OpenAI()"
   ]
  },
  {
   "cell_type": "code",
   "execution_count": null,
   "id": "3f0d0137-52b0-47a8-81a8-11a90a010798",
   "metadata": {},
   "outputs": [
    {
     "data": {
      "text/markdown": [
       "Certainly! Let's break down the code snippet you've provided:\n",
       "\n",
       "python\n",
       "yield from {book.get(\"author\") for book in books if book.get(\"author\")}\n",
       "\n",
       "\n",
       "## Explanation\n",
       "\n",
       "### 1. Set Comprehension\n",
       "The code uses a set comprehension, which is a concise way to create a set in Python. The syntax for a set comprehension looks like this:\n",
       "\n",
       "python\n",
       "{expression for item in iterable if condition}\n",
       "\n",
       "\n",
       "In this case:\n",
       "- `book.get(\"author\")` is the expression that extracts the author from each `book` in `books`.\n",
       "- `for book in books` iterates through a collection called `books`, which is presumably a list (or another iterable) of dictionaries.\n",
       "- `if book.get(\"author\")` is a condition that filters out any `book` that does not have an author or has an empty author. This ensures that only valid authors are included in the set.\n",
       "\n",
       "### 2. `yield from`\n",
       "The `yield from` statement is used in a generator function. It allows the generator to yield all values from another iterable (in this case, the set created by the set comprehension). This is useful when you want to yield values from a nested generator or from another iterable without needing a loop to handle that explicitly.\n",
       "\n",
       "### 3. Resulting Set\n",
       "The overall effect is that this piece of code generates a set of unique authors from the `books` iterable, ignoring any entries that do not have an author. This construct automatically handles duplicates because sets only store unique values.\n",
       "\n",
       "### 4. Why Use It\n",
       "- **Efficiency in Uniqueness**: By using a set comprehension, the code succinctly filters out duplicates and directly creates a set of authors.\n",
       "- **Readability**: The use of `yield from` makes the generator simple to write and maintain, as it abstracts away the looping logic that would otherwise be needed to yield each author.\n",
       "  \n",
       "## Example\n",
       "\n",
       "Suppose you have the following `books` list:\n",
       "\n",
       "python\n",
       "books = [\n",
       "    {\"title\": \"Book A\", \"author\": \"Author X\"},\n",
       "    {\"title\": \"Book B\", \"author\": \"Author Y\"},\n",
       "    {\"title\": \"Book C\", \"author\": \"Author X\"},\n",
       "    {\"title\": \"Book D\", \"author\": None},\n",
       "]\n",
       "\n",
       "\n",
       "The set comprehension `{book.get(\"author\") for book in books if book.get(\"author\")}` would evaluate to:\n",
       "\n",
       "python\n",
       "{\"Author X\", \"Author Y\"}\n",
       "\n",
       "\n",
       "Then, the `yield from` statement would yield each author in this set, making it possible for the calling code to process each author one at a time without having to collect them all into a list first.\n",
       "\n",
       "## Conclusion\n",
       "\n",
       "The code you provided is an efficient and pythonic way to extract unique authors from a list of dictionaries, while also handling missing or empty authors neatly."
      ],
      "text/plain": [
       "<IPython.core.display.Markdown object>"
      ]
     },
     "metadata": {},
     "output_type": "display_data"
    }
   ],
   "source": [
    "# Get gpt-4o-mini to answer, with streaming\n",
    "\n",
    "def open_ai_tutor(python_question):\n",
    "    system_prompt = \"\"\"\n",
    "    Imagine you are a python tutor and you have to explain what the following code does. \n",
    "    You are teaching a course in intermediate python. Help the student understand the following question.\n",
    "    Respond in Markdown.\n",
    "    \"\"\"\n",
    "    stream = openai.chat.completions.create(\n",
    "        model=MODEL_GPT,\n",
    "        messages=[\n",
    "            {\"role\": \"system\", \"content\": system_prompt},\n",
    "            {\"role\": \"user\", \"content\": python_question}\n",
    "          ],\n",
    "        stream=True\n",
    "    )\n",
    "    response = \"\"\n",
    "    display_handle = display(Markdown(\"\"), display_id=True)\n",
    "    for chunk in stream:\n",
    "        response += chunk.choices[0].delta.content or ''\n",
    "        response = response.replace(\"```\",\"\").replace(\"markdown\", \"\")\n",
    "        update_display(Markdown(response), display_id=display_handle.display_id)\n",
    "\n",
    "question = \"\"\"\n",
    "Please explain what this code does and why:\n",
    "yield from {book.get(\"author\") for book in books if book.get(\"author\")}\n",
    "\"\"\"\n",
    "\n",
    "open_ai_tutor(question)"
   ]
  },
  {
   "cell_type": "code",
   "execution_count": null,
   "id": "60ce7000-a4a5-4cce-a261-e75ef45063b4",
   "metadata": {},
   "outputs": [],
   "source": []
  },
  {
   "cell_type": "code",
   "execution_count": 20,
   "id": "8f7c8ea8-4082-4ad0-8751-3301adcf6538",
   "metadata": {},
   "outputs": [
    {
     "data": {
      "text/markdown": [
       "## Explanation of the Code\n",
       "\n",
       "The given code is a part of a Python loop that uses the `yield` keyword, which is used to generate an iterator.\n",
       "\n",
       "```python\n",
       "yield from {book.get(\"author\") for book in books if book.get(\"author\")}\n",
       "```\n",
       "\n",
       "This line of code is using a technique called \"generator expression\" or \"map-like iterable\". It's a concise way to create a generator that yields values on-the-fly, instead of computing them all at once and storing them in memory.\n",
       "\n",
       "Let's break down the components:\n",
       "\n",
       "- `yield from`: This keyword is used to convert an iterable (like a list or dictionary) into an iterator. The result is another iterator.\n",
       "- `{book.get(\"author\") for book in books if book.get(\"author\")}`: This part is generating a sequence of values, one at a time, using a generator expression.\n",
       "\n",
       "Here's how it works:\n",
       "\n",
       "1. `books` is assumed to be a list or other iterable data structure that you want to iterate over.\n",
       "2. The generator expression inside the outer loop (`{book.get(\"author\") for book in books if book.get(\"author\")}`) generates a sequence of values, one at a time.\n",
       "\n",
       "The outer loop iterates over each `book` in `books`, and checks if its \"author\" key exists using `book.get(\"author\")`. If it does, the value is yielded (i.e., returned) to the outer loop's iterator.\n",
       "\n",
       "- `yield`: This keyword is used to define a generator function. When executed, it returns an iterator that produces values on-the-fly.\n",
       "- The entire expression becomes an iterator because of the final `yield from` statement.\n",
       "\n",
       "## Example Use Case\n",
       "\n",
       "Suppose you have a list of dictionaries where each dictionary represents a book:\n",
       "\n",
       "```python\n",
       "books = [\n",
       "    {\"author\": \"John\"},\n",
       "    {\"author\": \"Jane\"},\n",
       "    {\"author\": None}\n",
       "]\n",
       "```\n",
       "\n",
       "If we call `books.get(\"author\")`, it will return `\"John\"` and `\"Jane\"`. However, if we want to generate a list of authors without loading all books into memory at once:\n",
       "\n",
       "```python\n",
       "for author in yield from {book.get(\"author\") for book in books if book.get(\"author\")}:\n",
       "    print(author)\n",
       "```\n",
       "\n",
       "This code will iterate over the authors (`John` and `Jane`) one by one, printing each value to the console.\n",
       "\n",
       "## Code Quality Notes\n",
       "\n",
       "- The use of `yield from` here is a bit unusual because it doesn't actually create an iterator that you can call again. Instead, it converts the iterable into an iterator on-the-fly.\n",
       "- It's worth noting that this syntax only works for iterables (like lists or dictionaries). If you try to use it with other types of data structures like tuples or sets, it will not work as expected.\n",
       "\n",
       "## Best Practices\n",
       "\n",
       "- In general, when using generators in Python, consider whether you need the iterator on-the-fly. They can be slower than loading all values at once.\n",
       "- When converting an iterable into an iterator, always use `yield from` instead of directly applying it to a variable (e.g., `... for book in books`)."
      ],
      "text/plain": [
       "<IPython.core.display.Markdown object>"
      ]
     },
     "metadata": {},
     "output_type": "display_data"
    },
    {
     "name": "stdout",
     "output_type": "stream",
     "text": [
      "<DisplayHandle display_id=32679e2173670dbf0140dd0dc768e970>\n"
     ]
    }
   ],
   "source": [
    "# Get Llama 3.2 to answer\n",
    "\n",
    "def ollama_tutor(python_question):\n",
    "    system_prompt = \"\"\"\n",
    "    Imagine you are a python tutor and you have to explain what the following code does. \n",
    "    You are teaching a course in intermediate python. Help the student understand the following question.\n",
    "    Respond in Markdown.\n",
    "    \"\"\"\n",
    "    response = ollama.chat(\n",
    "        model=MODEL_LLAMA,\n",
    "        messages=[\n",
    "            {\"role\": \"system\", \"content\": system_prompt},\n",
    "            {\"role\": \"user\", \"content\": python_question}\n",
    "          ],\n",
    "    )\n",
    "    print(display(Markdown(response['message']['content']), display_id=True))\n",
    "\n",
    "ollama_tutor(question)\n"
   ]
  },
  {
   "cell_type": "code",
   "execution_count": null,
   "id": "7e1d4bcf",
   "metadata": {},
   "outputs": [],
   "source": []
  }
 ],
 "metadata": {
  "kernelspec": {
   "display_name": "llms",
   "language": "python",
   "name": "python3"
  },
  "language_info": {
   "codemirror_mode": {
    "name": "ipython",
    "version": 3
   },
   "file_extension": ".py",
   "mimetype": "text/x-python",
   "name": "python",
   "nbconvert_exporter": "python",
   "pygments_lexer": "ipython3",
   "version": "3.11.11"
  }
 },
 "nbformat": 4,
 "nbformat_minor": 5
}
